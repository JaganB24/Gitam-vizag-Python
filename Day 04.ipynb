{
 "cells": [
  {
   "cell_type": "code",
   "execution_count": 2,
   "metadata": {},
   "outputs": [
    {
     "name": "stdout",
     "output_type": "stream",
     "text": [
      "JAGAN\n",
      "jagan\n"
     ]
    }
   ],
   "source": [
    "#string functions\n",
    "s='jagan'\n",
    "print(s.upper())\n",
    "print(s.lower())"
   ]
  },
  {
   "cell_type": "code",
   "execution_count": 4,
   "metadata": {},
   "outputs": [
    {
     "name": "stdout",
     "output_type": "stream",
     "text": [
      "True\n",
      "False\n"
     ]
    }
   ],
   "source": [
    "print(s.islower())\n",
    "print(s.isupper())"
   ]
  },
  {
   "cell_type": "code",
   "execution_count": 6,
   "metadata": {},
   "outputs": [
    {
     "name": "stdout",
     "output_type": "stream",
     "text": [
      "False\n"
     ]
    }
   ],
   "source": [
    "print(s.istitle())"
   ]
  },
  {
   "cell_type": "code",
   "execution_count": 30,
   "metadata": {},
   "outputs": [
    {
     "name": "stdout",
     "output_type": "stream",
     "text": [
      "False\n"
     ]
    }
   ],
   "source": [
    "a='Jagan Mohan'\n",
    "print(a.istitle())"
   ]
  },
  {
   "cell_type": "code",
   "execution_count": 28,
   "metadata": {},
   "outputs": [
    {
     "name": "stdout",
     "output_type": "stream",
     "text": [
      "True\n"
     ]
    }
   ],
   "source": [
    "b='1234'\n",
    "print(b.isnumeric())"
   ]
  },
  {
   "cell_type": "code",
   "execution_count": 31,
   "metadata": {
    "scrolled": true
   },
   "outputs": [
    {
     "name": "stdout",
     "output_type": "stream",
     "text": [
      "True\n",
      "False\n"
     ]
    }
   ],
   "source": [
    "print(a.isalpha())\n",
    "print(b.isalpha())"
   ]
  },
  {
   "cell_type": "code",
   "execution_count": 16,
   "metadata": {},
   "outputs": [
    {
     "name": "stdout",
     "output_type": "stream",
     "text": [
      "True\n"
     ]
    }
   ],
   "source": [
    "c=' '\n",
    "print(c.isspace())"
   ]
  },
  {
   "cell_type": "code",
   "execution_count": 34,
   "metadata": {},
   "outputs": [
    {
     "name": "stdout",
     "output_type": "stream",
     "text": [
      "['jagan', 'is', 'a', 'good', 'boy']\n"
     ]
    }
   ],
   "source": [
    "#string methods\n",
    "spi=\"jagan is a good boy\"\n",
    "print(spi.split())"
   ]
  },
  {
   "cell_type": "code",
   "execution_count": 36,
   "metadata": {},
   "outputs": [
    {
     "name": "stdout",
     "output_type": "stream",
     "text": [
      "['jagan is a good boy']\n"
     ]
    }
   ],
   "source": [
    "print(spi.split('-'))"
   ]
  },
  {
   "cell_type": "code",
   "execution_count": 39,
   "metadata": {},
   "outputs": [
    {
     "name": "stdout",
     "output_type": "stream",
     "text": [
      "['j', 'g', 'n is ', ' good boy']\n"
     ]
    }
   ],
   "source": [
    "print(spi.split('a'))"
   ]
  },
  {
   "cell_type": "code",
   "execution_count": 42,
   "metadata": {},
   "outputs": [
    {
     "name": "stdout",
     "output_type": "stream",
     "text": [
      "jagan-is-a-good-boy\n"
     ]
    }
   ],
   "source": [
    "print(spi.replace(' ','-'))"
   ]
  },
  {
   "cell_type": "code",
   "execution_count": 45,
   "metadata": {},
   "outputs": [
    {
     "name": "stdout",
     "output_type": "stream",
     "text": [
      "jagan is a g00d b0y\n"
     ]
    }
   ],
   "source": [
    "print(spi.replace('o','0'))"
   ]
  },
  {
   "cell_type": "code",
   "execution_count": 47,
   "metadata": {},
   "outputs": [
    {
     "name": "stdout",
     "output_type": "stream",
     "text": [
      "J a g a n M o h a n\n"
     ]
    }
   ],
   "source": [
    "print(\" \".join(a))"
   ]
  },
  {
   "cell_type": "code",
   "execution_count": 49,
   "metadata": {},
   "outputs": [
    {
     "name": "stdout",
     "output_type": "stream",
     "text": [
      "JjaganajagangjaganajagannjaganMjaganojaganhjaganajagann\n"
     ]
    }
   ],
   "source": [
    "print(\"jagan\".join(a))"
   ]
  },
  {
   "cell_type": "code",
   "execution_count": 52,
   "metadata": {},
   "outputs": [
    {
     "name": "stdout",
     "output_type": "stream",
     "text": [
      "python programming\n"
     ]
    }
   ],
   "source": [
    "#string formtting\n",
    "li=['python','programming']\n",
    "print('%s %s'%(li[0],li[1]))"
   ]
  },
  {
   "cell_type": "code",
   "execution_count": 56,
   "metadata": {},
   "outputs": [
    {
     "name": "stdout",
     "output_type": "stream",
     "text": [
      "1 2 3 4 5\n"
     ]
    }
   ],
   "source": [
    "lit=[1,2,3,4,5]\n",
    "print('%d %d %d %d %d'%(lit[0],lit[1],lit[2],lit[3],lit[4]))"
   ]
  },
  {
   "cell_type": "code",
   "execution_count": 59,
   "metadata": {},
   "outputs": [
    {
     "name": "stdout",
     "output_type": "stream",
     "text": [
      "1 2 3 4 5\n"
     ]
    }
   ],
   "source": [
    "print('{0} {1} {2} {3} {4}'.format(lit[0],lit[1],lit[2],lit[3],lit[4]))"
   ]
  },
  {
   "cell_type": "code",
   "execution_count": 65,
   "metadata": {},
   "outputs": [
    {
     "name": "stdout",
     "output_type": "stream",
     "text": [
      "list item 0:python \n",
      "list item 1 :programming\n"
     ]
    }
   ],
   "source": [
    "print(\"list item 0:{0} \\nlist item 1 :{1}\".format(li[0],li[1]))"
   ]
  },
  {
   "cell_type": "markdown",
   "metadata": {},
   "source": [
    "### data structures\n",
    "- lists\n",
    "- tuple\n",
    "- dictionaries"
   ]
  },
  {
   "cell_type": "code",
   "execution_count": 79,
   "metadata": {},
   "outputs": [
    {
     "name": "stdout",
     "output_type": "stream",
     "text": [
      "jagan\n"
     ]
    },
    {
     "data": {
      "text/plain": [
       "{'fname': 'jagan', 'lname': 'kaushik', 'branch': 'Msc'}"
      ]
     },
     "execution_count": 79,
     "metadata": {},
     "output_type": "execute_result"
    }
   ],
   "source": [
    "d ={'fname':'jagan','lname':'mohan','branch':'Msc'}\n",
    "print(d['fname'])\n",
    "\n",
    "d['lname']='kaushik'\n",
    "d['lname']\n",
    "d\n"
   ]
  },
  {
   "cell_type": "code",
   "execution_count": 87,
   "metadata": {},
   "outputs": [
    {
     "name": "stdout",
     "output_type": "stream",
     "text": [
      "dict_keys(['fname', 'lname', 'branch'])\n"
     ]
    },
    {
     "data": {
      "text/plain": [
       "dict_values(['jagan', 'kaushik', 'Msc'])"
      ]
     },
     "execution_count": 87,
     "metadata": {},
     "output_type": "execute_result"
    }
   ],
   "source": [
    "print(d.keys())\n",
    "d.values()\n"
   ]
  },
  {
   "cell_type": "code",
   "execution_count": 93,
   "metadata": {},
   "outputs": [
    {
     "data": {
      "text/plain": [
       "{'lname': 'kaushik', 'branch': 'Msc', 'fname': 'rishi'}"
      ]
     },
     "execution_count": 93,
     "metadata": {},
     "output_type": "execute_result"
    }
   ],
   "source": [
    "d['fname']='rishi'\n",
    "d"
   ]
  },
  {
   "cell_type": "markdown",
   "metadata": {},
   "source": [
    "### contact application\n",
    "- add contact details\n",
    "- searching\n",
    "- list all contacts\n",
    "- merge\n",
    "- update\n",
    "- delete"
   ]
  },
  {
   "cell_type": "code",
   "execution_count": 4,
   "metadata": {},
   "outputs": [
    {
     "name": "stdout",
     "output_type": "stream",
     "text": [
      "added successfully\n",
      "added successfully\n",
      "{'jagan': '8341610933', 'kaushik': 455656445}\n",
      "already exists\n"
     ]
    }
   ],
   "source": [
    "contacts ={}\n",
    "def addcontact(name,phone):\n",
    "    if name not in contacts :\n",
    "        contacts[name]=phone\n",
    "        print('added successfully')\n",
    "    else:\n",
    "        print('already exists')\n",
    "    return\n",
    "addcontact('jagan','8341610933')\n",
    "addcontact('kaushik',455656445)\n",
    "print(contacts)\n",
    "addcontact('jagan','8341610933')\n",
    "\n"
   ]
  },
  {
   "cell_type": "code",
   "execution_count": 105,
   "metadata": {},
   "outputs": [
    {
     "name": "stdout",
     "output_type": "stream",
     "text": [
      "kaushik : 7386280174\n",
      "ram not present\n",
      "ram does not present\n"
     ]
    }
   ],
   "source": [
    "def searchcontact(name):\n",
    "    if name in contacts:\n",
    "        print(name,\":\",contacts[name])\n",
    "    else:\n",
    "        print('{0} not present'.format(name))\n",
    "        print(\"%s does not present\"%name)\n",
    "    return\n",
    "searchcontact('kaushik')\n",
    "searchcontact('ram')"
   ]
  },
  {
   "cell_type": "code",
   "execution_count": 13,
   "metadata": {},
   "outputs": [
    {
     "name": "stdout",
     "output_type": "stream",
     "text": [
      "2 contacts are added\n"
     ]
    },
    {
     "data": {
      "text/plain": [
       "{'jagan': '8341610933', 'mama': 8635689475, 'nanna': 9440744071}"
      ]
     },
     "execution_count": 13,
     "metadata": {},
     "output_type": "execute_result"
    }
   ],
   "source": [
    "#import and merge\n",
    "def importcont(newcont):\n",
    "    contacts.update(newcont)\n",
    "    print(len(newcont.keys()),'contacts are added')\n",
    "    return\n",
    "newcont ={'mama':8635689475,'nanna':9440744071}\n",
    "importcont(newcont)\n",
    "contacts\n"
   ]
  },
  {
   "cell_type": "code",
   "execution_count": 7,
   "metadata": {},
   "outputs": [
    {
     "name": "stdout",
     "output_type": "stream",
     "text": [
      "kaushik updated\n",
      "ravi not exists\n"
     ]
    }
   ],
   "source": [
    "def modifycont(name,phone):\n",
    "    if name in contacts:\n",
    "        contacts[name]=phone\n",
    "        print(name,'updated')\n",
    "    else:\n",
    "        print(name,'not exists')\n",
    "    return\n",
    "modifycont('kaushik','123456789')\n",
    "modifycont('ravi','656466')"
   ]
  },
  {
   "cell_type": "code",
   "execution_count": 11,
   "metadata": {},
   "outputs": [
    {
     "name": "stdout",
     "output_type": "stream",
     "text": [
      "kaushik not exists\n"
     ]
    },
    {
     "data": {
      "text/plain": [
       "{'jagan': '8341610933'}"
      ]
     },
     "execution_count": 11,
     "metadata": {},
     "output_type": "execute_result"
    }
   ],
   "source": [
    "def deletecont(name):\n",
    "    if name in contacts:\n",
    "        del contacts[name]\n",
    "        print(name,'deleted')\n",
    "    else:\n",
    "        print(name,'not exists')\n",
    "    return\n",
    "deletecont('kaushik')\n",
    "contacts"
   ]
  },
  {
   "cell_type": "code",
   "execution_count": 15,
   "metadata": {},
   "outputs": [
    {
     "data": {
      "text/plain": [
       "{'jagan': '8341610933', 'mama': 8635689475, 'nanna': 9440744071}"
      ]
     },
     "execution_count": 15,
     "metadata": {},
     "output_type": "execute_result"
    }
   ],
   "source": [
    "contacts\n",
    "\n"
   ]
  },
  {
   "cell_type": "code",
   "execution_count": 28,
   "metadata": {},
   "outputs": [
    {
     "name": "stdout",
     "output_type": "stream",
     "text": [
      "(1, 2, 3, 4)\n",
      "(2, 3)\n",
      "(1, 2, 3)\n"
     ]
    }
   ],
   "source": [
    "#tuples :only used for read data \n",
    "t=(1,2,3,4)\n",
    "print(t)\n",
    "print(t[1:3])\n",
    "print(t[:-1])\n"
   ]
  },
  {
   "cell_type": "markdown",
   "metadata": {},
   "source": [
    "### regular exprssions\n",
    "    - to validate mobile num\n",
    "    - to validate emailid\n",
    "    - username\n",
    "    - password\n",
    "\n",
    "- uderstandig  the RE\n",
    "     - [0-9]\n",
    "     - [a-z]\n",
    "     - [A-z]\n",
    "     - cap is start of RE\n",
    "     - $ is end "
   ]
  },
  {
   "cell_type": "code",
   "execution_count": 33,
   "metadata": {},
   "outputs": [
    {
     "name": "stdout",
     "output_type": "stream",
     "text": [
      "True\n",
      "False\n"
     ]
    }
   ],
   "source": [
    "# function to est two digit is true or false\n",
    "import re \n",
    "def twodigitmatch(n):\n",
    "    pattern ='^[0-9]{2}$'\n",
    "    n=str(n)\n",
    "    if re.match(pattern,n):\n",
    "        return True\n",
    "    return False\n",
    "print(twodigitmatch(12))\n",
    "print(twodigitmatch(123))        "
   ]
  },
  {
   "cell_type": "code",
   "execution_count": 36,
   "metadata": {},
   "outputs": [
    {
     "name": "stdout",
     "output_type": "stream",
     "text": [
      "True\n",
      "False\n"
     ]
    }
   ],
   "source": [
    "#re for username\n",
    "\n",
    "def validate(s):\n",
    "    pattern='^[a-zA-Z]{4,11}$'\n",
    "    if re.match(pattern,s):\n",
    "        return True\n",
    "    return False\n",
    "print(validate('jaganmohan'))\n",
    "print(validate('kaushikrishi'))"
   ]
  },
  {
   "cell_type": "code",
   "execution_count": 1,
   "metadata": {},
   "outputs": [
    {
     "name": "stdout",
     "output_type": "stream",
     "text": [
      "added successfully\n"
     ]
    }
   ],
   "source": [
    "import re\n",
    "cont ={}\n",
    "def addcontact(name,phone):\n",
    "    if name not in cont :\n",
    "        cont[name]=phone\n",
    "        pattern ='^[0-9]{10}$'\n",
    "        phone =str(phone)\n",
    "        if re.match(pattern,phone):\n",
    "            print('added successfully')\n",
    "        else:\n",
    "            print('enter phone number 10 digits only')\n",
    "    else:\n",
    "        print('already exists')\n",
    "    return\n",
    "addcontact('ram',7894561230)"
   ]
  },
  {
   "cell_type": "code",
   "execution_count": 7,
   "metadata": {},
   "outputs": [
    {
     "name": "stdout",
     "output_type": "stream",
     "text": [
      "True\n",
      "False\n"
     ]
    }
   ],
   "source": [
    "def checknum(n):\n",
    "    pattern = '^[6-9][0-9]{9}$|^[0][6-9][0-9]{9}$|^[+][9][1][0-9][9]$'\n",
    "    n=str(n)\n",
    "    if re.match(pattern,n):\n",
    "        return True\n",
    "    return False\n",
    "print(checknum(7386280174))\n",
    "print(checknum(12128976567))\n"
   ]
  },
  {
   "cell_type": "markdown",
   "metadata": {},
   "source": [
    "### Validate the EmailID\n",
    "- Example : Username@DomainName.extension\n",
    "- Example : dsps@gmail.com\n",
    "- Username :\n",
    "   - Len of string will be [6-15]\n",
    "   - No Spl characters except underscore( _ )\n",
    "   - Username should not begin with Underscore ( _ )\n",
    "   - All charaters set Digits, Lower case and Upper case\n",
    "       - Example : Anil_1889\n",
    "- DomainName :\n",
    "   - Len of string will be [3-18]\n",
    "   - No Spl characters\n",
    "   - Charaters set will be Digits, Lower case and Upper case\n",
    "       - Example : gmail, hotmail, ymail, rediff and etc...    \n",
    "- Extension :\n",
    "   - Len of string will be [2-4]\n",
    "   - No Spl characters allowed\n",
    "   - Character set will ave lower case character\n",
    "       - Example : com, in, au, uk\n"
   ]
  },
  {
   "cell_type": "code",
   "execution_count": 10,
   "metadata": {},
   "outputs": [
    {
     "data": {
      "text/plain": [
       "True"
      ]
     },
     "execution_count": 10,
     "metadata": {},
     "output_type": "execute_result"
    }
   ],
   "source": [
    "def checkemail(email):\n",
    "    pattern='^[0-9a-zA-z][0-9a-zA-z_.]{5,14}[@][a-z0-9]{3,18}[.][a-z]{2,4}$'\n",
    "    if re.match(pattern,email):\n",
    "        return True\n",
    "    return False\n",
    "checkemail('bjaganmohan24@gmail.com')"
   ]
  },
  {
   "cell_type": "code",
   "execution_count": 14,
   "metadata": {},
   "outputs": [
    {
     "name": "stdout",
     "output_type": "stream",
     "text": [
      "5 88 30 54 83 86 64 46 9 57 "
     ]
    }
   ],
   "source": [
    "import random\n",
    "def genrandnum(n,lb,ub):\n",
    "    for i in range(0,n):\n",
    "        print(random.randint(lb,ub),end=' ')\n",
    "    return\n",
    "genrandnum(10,0,100)"
   ]
  },
  {
   "cell_type": "code",
   "execution_count": 15,
   "metadata": {},
   "outputs": [],
   "source": [
    "from random import randint as ri\n",
    "def gennum(n,lb,ub):\n",
    "    li = []\n",
    "    for i in range(0,n):\n",
    "        li.append(rdint)"
   ]
  },
  {
   "cell_type": "code",
   "execution_count": 33,
   "metadata": {},
   "outputs": [
    {
     "name": "stdout",
     "output_type": "stream",
     "text": [
      "try again\n"
     ]
    }
   ],
   "source": [
    "from random import randint as rdint\n",
    "def gennum(n,lb,ub):\n",
    "    li=[]\n",
    "    for i in range(0,n):\n",
    "        li.append(rdint(lb,ub))\n",
    "    return li\n",
    "def check(n):\n",
    "    li =gennum(20,100,999)\n",
    "    if n in li:\n",
    "        print('congrats')\n",
    "    else:\n",
    "        print(\"try again\")\n",
    "    return\n",
    "check(569)"
   ]
  },
  {
   "cell_type": "code",
   "execution_count": 1,
   "metadata": {},
   "outputs": [
    {
     "ename": "NameError",
     "evalue": "name 'turtle' is not defined",
     "output_type": "error",
     "traceback": [
      "\u001b[1;31m---------------------------------------------------------------------------\u001b[0m",
      "\u001b[1;31mNameError\u001b[0m                                 Traceback (most recent call last)",
      "\u001b[1;32m<ipython-input-1-d66bcafab5a3>\u001b[0m in \u001b[0;36m<module>\u001b[1;34m\u001b[0m\n\u001b[0;32m      1\u001b[0m \u001b[1;32mimport\u001b[0m \u001b[0mturtle\u001b[0m \u001b[1;32mas\u001b[0m \u001b[0mtt\u001b[0m\u001b[1;33m\u001b[0m\u001b[1;33m\u001b[0m\u001b[0m\n\u001b[1;32m----> 2\u001b[1;33m \u001b[0ma\u001b[0m\u001b[1;33m=\u001b[0m\u001b[0mturtle\u001b[0m\u001b[1;33m.\u001b[0m\u001b[0mTurtle\u001b[0m\u001b[1;33m(\u001b[0m\u001b[1;33m)\u001b[0m\u001b[1;33m\u001b[0m\u001b[1;33m\u001b[0m\u001b[0m\n\u001b[0m\u001b[0;32m      3\u001b[0m \u001b[0ma\u001b[0m\u001b[1;33m.\u001b[0m\u001b[0mbacward\u001b[0m\u001b[1;33m(\u001b[0m\u001b[1;36m150\u001b[0m\u001b[1;33m)\u001b[0m\u001b[1;33m\u001b[0m\u001b[1;33m\u001b[0m\u001b[0m\n\u001b[0;32m      4\u001b[0m \u001b[0mtt\u001b[0m\u001b[1;33m.\u001b[0m\u001b[0mdone\u001b[0m\u001b[1;33m(\u001b[0m\u001b[1;33m)\u001b[0m\u001b[1;33m\u001b[0m\u001b[1;33m\u001b[0m\u001b[0m\n",
      "\u001b[1;31mNameError\u001b[0m: name 'turtle' is not defined"
     ]
    }
   ],
   "source": [
    "import turtle as tt\n",
    "a=turtle.Turtle()\n",
    "a.bacward(150)\n",
    "tt.done()"
   ]
  }
 ],
 "metadata": {
  "kernelspec": {
   "display_name": "Python 3",
   "language": "python",
   "name": "python3"
  },
  "language_info": {
   "codemirror_mode": {
    "name": "ipython",
    "version": 3
   },
   "file_extension": ".py",
   "mimetype": "text/x-python",
   "name": "python",
   "nbconvert_exporter": "python",
   "pygments_lexer": "ipython3",
   "version": "3.7.3"
  }
 },
 "nbformat": 4,
 "nbformat_minor": 2
}
